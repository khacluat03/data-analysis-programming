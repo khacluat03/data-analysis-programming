{
 "cells": [
  {
   "cell_type": "markdown",
   "metadata": {},
   "source": [
    "# Bài Thi Cuối kỳ\n",
    "\n",
    "- Môn: Lập trình Phân Tích Dữ liệu\n",
    "- Lớp: DHKHDL17A\n",
    "- Thời gian: 60 phút\n",
    "\n",
    "**LƯU Ý:** \n",
    "\n",
    "- Được: sử dụng tài liệu, internet, laptop cá nhân\n",
    "\n",
    "- Không được: trao đổi, sử dụng mạng xã hội trao đổi bài, gian lận"
   ]
  },
  {
   "cell_type": "markdown",
   "metadata": {},
   "source": [
    "## Thông tin\n",
    "\n",
    "#### Họ tên: Nguyễn Khắc Luật\n",
    "#### MSSV: 21099741\n",
    "\n",
    "---"
   ]
  },
  {
   "cell_type": "markdown",
   "metadata": {},
   "source": [
    "## Dữ Liệu\n",
    "\n",
    "Bộ dữ liệu **YPLL** được sử dụng để đo tỷ lệ tử vong sớm (trước 75 tuổi). Mỗi dòng dữ liệu được đo trong 100000 người (một trăm nghìn người) và tính tổng số năm họ mất sớm hơn trước 75 tuổi. Ví dụ, một người mất năm 73 tuổi thì xem như họ mất sớm 2 năm. Nếu họ mất năm 77 tuổi thì số năm mất sớm là 0 năm. \n",
    "\n",
    "File `ypll.csv` chứa tỷ lệ số năm mất sớm trong 100000 người ở mỗi Quận tại Hoa Kỳ. Các thuộc tính:\n",
    "\n",
    "- FIPS: mã quận\n",
    "- State: bang\n",
    "- County: quận\n",
    "- Unreliable: đánh dấu dòng dữ liệu có thể bị thu nhập sai\n",
    "- YPLL Rate: tỷ lệ tử vong sớm trên 100000\n",
    "\n",
    "Ngoài ra, file `additional-measures.csv` chứa tất cả các chỉ số khác ở mỗi Quận. Nhiệm vụ của bạn là xây dựng một mô hình dự đoán tỷ lệ tử vong sớm `YPLL Rate` dựa vào các chỉ số khác.\n",
    "\n",
    "---"
   ]
  },
  {
   "cell_type": "markdown",
   "metadata": {},
   "source": [
    "### CÂU 1 (2 điểm)\n",
    "\n",
    "a. Đọc dữ liệu, cho biết những mô tả tóm tắt về dữ liệu. Dữ liệu có bao nhiêu dòng trống?\n",
    "\n",
    "b. Làm sạch dữ liệu. Hãy loại bỏ những dòng bị đánh dấu là không đáng tin (**Unreliable**) và những dòng không có thông tin về Quận cũng như không có thông tin về **YPLL rate**"
   ]
  },
  {
   "cell_type": "markdown",
   "metadata": {},
   "source": [
    "a."
   ]
  },
  {
   "cell_type": "code",
   "execution_count": 2,
   "metadata": {},
   "outputs": [
    {
     "data": {
      "text/html": [
       "<div>\n",
       "<style scoped>\n",
       "    .dataframe tbody tr th:only-of-type {\n",
       "        vertical-align: middle;\n",
       "    }\n",
       "\n",
       "    .dataframe tbody tr th {\n",
       "        vertical-align: top;\n",
       "    }\n",
       "\n",
       "    .dataframe thead th {\n",
       "        text-align: right;\n",
       "    }\n",
       "</style>\n",
       "<table border=\"1\" class=\"dataframe\">\n",
       "  <thead>\n",
       "    <tr style=\"text-align: right;\">\n",
       "      <th></th>\n",
       "      <th>FIPS</th>\n",
       "      <th>State</th>\n",
       "      <th>County</th>\n",
       "      <th>Unreliable</th>\n",
       "      <th>YPLL Rate</th>\n",
       "    </tr>\n",
       "  </thead>\n",
       "  <tbody>\n",
       "    <tr>\n",
       "      <th>0</th>\n",
       "      <td>1000</td>\n",
       "      <td>Alabama</td>\n",
       "      <td>NaN</td>\n",
       "      <td>NaN</td>\n",
       "      <td>10189.0</td>\n",
       "    </tr>\n",
       "    <tr>\n",
       "      <th>1</th>\n",
       "      <td>1001</td>\n",
       "      <td>Alabama</td>\n",
       "      <td>Autauga</td>\n",
       "      <td>NaN</td>\n",
       "      <td>9967.0</td>\n",
       "    </tr>\n",
       "    <tr>\n",
       "      <th>2</th>\n",
       "      <td>1003</td>\n",
       "      <td>Alabama</td>\n",
       "      <td>Baldwin</td>\n",
       "      <td>NaN</td>\n",
       "      <td>8322.0</td>\n",
       "    </tr>\n",
       "    <tr>\n",
       "      <th>3</th>\n",
       "      <td>1005</td>\n",
       "      <td>Alabama</td>\n",
       "      <td>Barbour</td>\n",
       "      <td>NaN</td>\n",
       "      <td>9559.0</td>\n",
       "    </tr>\n",
       "    <tr>\n",
       "      <th>4</th>\n",
       "      <td>1007</td>\n",
       "      <td>Alabama</td>\n",
       "      <td>Bibb</td>\n",
       "      <td>NaN</td>\n",
       "      <td>13283.0</td>\n",
       "    </tr>\n",
       "    <tr>\n",
       "      <th>5</th>\n",
       "      <td>1009</td>\n",
       "      <td>Alabama</td>\n",
       "      <td>Blount</td>\n",
       "      <td>NaN</td>\n",
       "      <td>8475.0</td>\n",
       "    </tr>\n",
       "    <tr>\n",
       "      <th>6</th>\n",
       "      <td>1011</td>\n",
       "      <td>Alabama</td>\n",
       "      <td>Bullock</td>\n",
       "      <td>NaN</td>\n",
       "      <td>15433.0</td>\n",
       "    </tr>\n",
       "    <tr>\n",
       "      <th>7</th>\n",
       "      <td>1013</td>\n",
       "      <td>Alabama</td>\n",
       "      <td>Butler</td>\n",
       "      <td>NaN</td>\n",
       "      <td>12652.0</td>\n",
       "    </tr>\n",
       "    <tr>\n",
       "      <th>8</th>\n",
       "      <td>1015</td>\n",
       "      <td>Alabama</td>\n",
       "      <td>Calhoun</td>\n",
       "      <td>NaN</td>\n",
       "      <td>11720.0</td>\n",
       "    </tr>\n",
       "    <tr>\n",
       "      <th>9</th>\n",
       "      <td>1017</td>\n",
       "      <td>Alabama</td>\n",
       "      <td>Chambers</td>\n",
       "      <td>NaN</td>\n",
       "      <td>11319.0</td>\n",
       "    </tr>\n",
       "  </tbody>\n",
       "</table>\n",
       "</div>"
      ],
      "text/plain": [
       "   FIPS    State    County Unreliable  YPLL Rate\n",
       "0  1000  Alabama       NaN        NaN    10189.0\n",
       "1  1001  Alabama   Autauga        NaN     9967.0\n",
       "2  1003  Alabama   Baldwin        NaN     8322.0\n",
       "3  1005  Alabama   Barbour        NaN     9559.0\n",
       "4  1007  Alabama      Bibb        NaN    13283.0\n",
       "5  1009  Alabama    Blount        NaN     8475.0\n",
       "6  1011  Alabama   Bullock        NaN    15433.0\n",
       "7  1013  Alabama    Butler        NaN    12652.0\n",
       "8  1015  Alabama   Calhoun        NaN    11720.0\n",
       "9  1017  Alabama  Chambers        NaN    11319.0"
      ]
     },
     "execution_count": 2,
     "metadata": {},
     "output_type": "execute_result"
    }
   ],
   "source": [
    "import pandas as pd\n",
    "df = pd.read_csv('ypll.csv')\n",
    "df.head(10)"
   ]
  },
  {
   "cell_type": "code",
   "execution_count": 3,
   "metadata": {},
   "outputs": [
    {
     "name": "stdout",
     "output_type": "stream",
     "text": [
      "<class 'pandas.core.frame.DataFrame'>\n",
      "RangeIndex: 3192 entries, 0 to 3191\n",
      "Data columns (total 5 columns):\n",
      " #   Column      Non-Null Count  Dtype  \n",
      "---  ------      --------------  -----  \n",
      " 0   FIPS        3192 non-null   int64  \n",
      " 1   State       3192 non-null   object \n",
      " 2   County      3141 non-null   object \n",
      " 3   Unreliable  196 non-null    object \n",
      " 4   YPLL Rate   3097 non-null   float64\n",
      "dtypes: float64(1), int64(1), object(3)\n",
      "memory usage: 124.8+ KB\n"
     ]
    }
   ],
   "source": [
    "df.info()"
   ]
  },
  {
   "cell_type": "code",
   "execution_count": 5,
   "metadata": {},
   "outputs": [
    {
     "data": {
      "text/plain": [
       "(3192, 5)"
      ]
     },
     "execution_count": 5,
     "metadata": {},
     "output_type": "execute_result"
    }
   ],
   "source": [
    "# bảng dữ liệu có số lượng các dòng và cột\n",
    "df.shape"
   ]
  },
  {
   "cell_type": "markdown",
   "metadata": {},
   "source": [
    "b."
   ]
  },
  {
   "cell_type": "code",
   "execution_count": 16,
   "metadata": {},
   "outputs": [
    {
     "data": {
      "text/html": [
       "<div>\n",
       "<style scoped>\n",
       "    .dataframe tbody tr th:only-of-type {\n",
       "        vertical-align: middle;\n",
       "    }\n",
       "\n",
       "    .dataframe tbody tr th {\n",
       "        vertical-align: top;\n",
       "    }\n",
       "\n",
       "    .dataframe thead th {\n",
       "        text-align: right;\n",
       "    }\n",
       "</style>\n",
       "<table border=\"1\" class=\"dataframe\">\n",
       "  <thead>\n",
       "    <tr style=\"text-align: right;\">\n",
       "      <th></th>\n",
       "      <th>FIPS</th>\n",
       "      <th>State</th>\n",
       "      <th>County</th>\n",
       "      <th>Unreliable</th>\n",
       "      <th>YPLL Rate</th>\n",
       "    </tr>\n",
       "  </thead>\n",
       "  <tbody>\n",
       "    <tr>\n",
       "      <th>0</th>\n",
       "      <td>1000</td>\n",
       "      <td>Alabama</td>\n",
       "      <td>NaN</td>\n",
       "      <td>NaN</td>\n",
       "      <td>10189.0</td>\n",
       "    </tr>\n",
       "    <tr>\n",
       "      <th>1</th>\n",
       "      <td>1001</td>\n",
       "      <td>Alabama</td>\n",
       "      <td>Autauga</td>\n",
       "      <td>NaN</td>\n",
       "      <td>9967.0</td>\n",
       "    </tr>\n",
       "    <tr>\n",
       "      <th>2</th>\n",
       "      <td>1003</td>\n",
       "      <td>Alabama</td>\n",
       "      <td>Baldwin</td>\n",
       "      <td>NaN</td>\n",
       "      <td>8322.0</td>\n",
       "    </tr>\n",
       "    <tr>\n",
       "      <th>3</th>\n",
       "      <td>1005</td>\n",
       "      <td>Alabama</td>\n",
       "      <td>Barbour</td>\n",
       "      <td>NaN</td>\n",
       "      <td>9559.0</td>\n",
       "    </tr>\n",
       "    <tr>\n",
       "      <th>4</th>\n",
       "      <td>1007</td>\n",
       "      <td>Alabama</td>\n",
       "      <td>Bibb</td>\n",
       "      <td>NaN</td>\n",
       "      <td>13283.0</td>\n",
       "    </tr>\n",
       "    <tr>\n",
       "      <th>5</th>\n",
       "      <td>1009</td>\n",
       "      <td>Alabama</td>\n",
       "      <td>Blount</td>\n",
       "      <td>NaN</td>\n",
       "      <td>8475.0</td>\n",
       "    </tr>\n",
       "    <tr>\n",
       "      <th>6</th>\n",
       "      <td>1011</td>\n",
       "      <td>Alabama</td>\n",
       "      <td>Bullock</td>\n",
       "      <td>NaN</td>\n",
       "      <td>15433.0</td>\n",
       "    </tr>\n",
       "    <tr>\n",
       "      <th>7</th>\n",
       "      <td>1013</td>\n",
       "      <td>Alabama</td>\n",
       "      <td>Butler</td>\n",
       "      <td>NaN</td>\n",
       "      <td>12652.0</td>\n",
       "    </tr>\n",
       "    <tr>\n",
       "      <th>8</th>\n",
       "      <td>1015</td>\n",
       "      <td>Alabama</td>\n",
       "      <td>Calhoun</td>\n",
       "      <td>NaN</td>\n",
       "      <td>11720.0</td>\n",
       "    </tr>\n",
       "    <tr>\n",
       "      <th>9</th>\n",
       "      <td>1017</td>\n",
       "      <td>Alabama</td>\n",
       "      <td>Chambers</td>\n",
       "      <td>NaN</td>\n",
       "      <td>11319.0</td>\n",
       "    </tr>\n",
       "  </tbody>\n",
       "</table>\n",
       "</div>"
      ],
      "text/plain": [
       "   FIPS    State    County Unreliable  YPLL Rate\n",
       "0  1000  Alabama       NaN        NaN    10189.0\n",
       "1  1001  Alabama   Autauga        NaN     9967.0\n",
       "2  1003  Alabama   Baldwin        NaN     8322.0\n",
       "3  1005  Alabama   Barbour        NaN     9559.0\n",
       "4  1007  Alabama      Bibb        NaN    13283.0\n",
       "5  1009  Alabama    Blount        NaN     8475.0\n",
       "6  1011  Alabama   Bullock        NaN    15433.0\n",
       "7  1013  Alabama    Butler        NaN    12652.0\n",
       "8  1015  Alabama   Calhoun        NaN    11720.0\n",
       "9  1017  Alabama  Chambers        NaN    11319.0"
      ]
     },
     "execution_count": 16,
     "metadata": {},
     "output_type": "execute_result"
    }
   ],
   "source": [
    "df_1 = df[df['Unreliable'] != 'x']\n",
    "df_1.head(10)"
   ]
  },
  {
   "cell_type": "code",
   "execution_count": 23,
   "metadata": {},
   "outputs": [
    {
     "data": {
      "text/plain": [
       "(2996, 5)"
      ]
     },
     "execution_count": 23,
     "metadata": {},
     "output_type": "execute_result"
    }
   ],
   "source": [
    "df_1.shape"
   ]
  },
  {
   "cell_type": "code",
   "execution_count": 24,
   "metadata": {},
   "outputs": [
    {
     "data": {
      "text/html": [
       "<div>\n",
       "<style scoped>\n",
       "    .dataframe tbody tr th:only-of-type {\n",
       "        vertical-align: middle;\n",
       "    }\n",
       "\n",
       "    .dataframe tbody tr th {\n",
       "        vertical-align: top;\n",
       "    }\n",
       "\n",
       "    .dataframe thead th {\n",
       "        text-align: right;\n",
       "    }\n",
       "</style>\n",
       "<table border=\"1\" class=\"dataframe\">\n",
       "  <thead>\n",
       "    <tr style=\"text-align: right;\">\n",
       "      <th></th>\n",
       "      <th>FIPS</th>\n",
       "      <th>State</th>\n",
       "      <th>County</th>\n",
       "      <th>Unreliable</th>\n",
       "      <th>YPLL Rate</th>\n",
       "    </tr>\n",
       "  </thead>\n",
       "  <tbody>\n",
       "    <tr>\n",
       "      <th>0</th>\n",
       "      <td>1000</td>\n",
       "      <td>Alabama</td>\n",
       "      <td>NaN</td>\n",
       "      <td>NaN</td>\n",
       "      <td>10189.0</td>\n",
       "    </tr>\n",
       "    <tr>\n",
       "      <th>1</th>\n",
       "      <td>1001</td>\n",
       "      <td>Alabama</td>\n",
       "      <td>Autauga</td>\n",
       "      <td>NaN</td>\n",
       "      <td>9967.0</td>\n",
       "    </tr>\n",
       "    <tr>\n",
       "      <th>2</th>\n",
       "      <td>1003</td>\n",
       "      <td>Alabama</td>\n",
       "      <td>Baldwin</td>\n",
       "      <td>NaN</td>\n",
       "      <td>8322.0</td>\n",
       "    </tr>\n",
       "    <tr>\n",
       "      <th>3</th>\n",
       "      <td>1005</td>\n",
       "      <td>Alabama</td>\n",
       "      <td>Barbour</td>\n",
       "      <td>NaN</td>\n",
       "      <td>9559.0</td>\n",
       "    </tr>\n",
       "    <tr>\n",
       "      <th>4</th>\n",
       "      <td>1007</td>\n",
       "      <td>Alabama</td>\n",
       "      <td>Bibb</td>\n",
       "      <td>NaN</td>\n",
       "      <td>13283.0</td>\n",
       "    </tr>\n",
       "    <tr>\n",
       "      <th>5</th>\n",
       "      <td>1009</td>\n",
       "      <td>Alabama</td>\n",
       "      <td>Blount</td>\n",
       "      <td>NaN</td>\n",
       "      <td>8475.0</td>\n",
       "    </tr>\n",
       "    <tr>\n",
       "      <th>6</th>\n",
       "      <td>1011</td>\n",
       "      <td>Alabama</td>\n",
       "      <td>Bullock</td>\n",
       "      <td>NaN</td>\n",
       "      <td>15433.0</td>\n",
       "    </tr>\n",
       "    <tr>\n",
       "      <th>7</th>\n",
       "      <td>1013</td>\n",
       "      <td>Alabama</td>\n",
       "      <td>Butler</td>\n",
       "      <td>NaN</td>\n",
       "      <td>12652.0</td>\n",
       "    </tr>\n",
       "    <tr>\n",
       "      <th>8</th>\n",
       "      <td>1015</td>\n",
       "      <td>Alabama</td>\n",
       "      <td>Calhoun</td>\n",
       "      <td>NaN</td>\n",
       "      <td>11720.0</td>\n",
       "    </tr>\n",
       "    <tr>\n",
       "      <th>9</th>\n",
       "      <td>1017</td>\n",
       "      <td>Alabama</td>\n",
       "      <td>Chambers</td>\n",
       "      <td>NaN</td>\n",
       "      <td>11319.0</td>\n",
       "    </tr>\n",
       "  </tbody>\n",
       "</table>\n",
       "</div>"
      ],
      "text/plain": [
       "   FIPS    State    County Unreliable  YPLL Rate\n",
       "0  1000  Alabama       NaN        NaN    10189.0\n",
       "1  1001  Alabama   Autauga        NaN     9967.0\n",
       "2  1003  Alabama   Baldwin        NaN     8322.0\n",
       "3  1005  Alabama   Barbour        NaN     9559.0\n",
       "4  1007  Alabama      Bibb        NaN    13283.0\n",
       "5  1009  Alabama    Blount        NaN     8475.0\n",
       "6  1011  Alabama   Bullock        NaN    15433.0\n",
       "7  1013  Alabama    Butler        NaN    12652.0\n",
       "8  1015  Alabama   Calhoun        NaN    11720.0\n",
       "9  1017  Alabama  Chambers        NaN    11319.0"
      ]
     },
     "execution_count": 24,
     "metadata": {},
     "output_type": "execute_result"
    }
   ],
   "source": [
    "filtered_df = df_1.dropna(subset=['State', 'YPLL Rate'])\n",
    "filtered_df.head(10)"
   ]
  },
  {
   "cell_type": "code",
   "execution_count": 25,
   "metadata": {},
   "outputs": [
    {
     "data": {
      "text/plain": [
       "(2901, 5)"
      ]
     },
     "execution_count": 25,
     "metadata": {},
     "output_type": "execute_result"
    }
   ],
   "source": [
    "filtered_df.shape"
   ]
  },
  {
   "cell_type": "markdown",
   "metadata": {},
   "source": [
    "### CÂU 2 (7 điểm)\n",
    "\n",
    "a. Hãy khảo sát mối tương quan tuyến tính của thuộc tính **YPLL rate** với mỗi thuộc tính sau: **\"%Diabetes\", \"<18\", \"median income\"** bằng cách sử dụng scatter-plot\n",
    "\n",
    "b. Dựa vào đồ thị hãy nhận xét về mối tương quan tuyến tính của từng thuộc tính với thuộc tính **YPLL rate**\n",
    "\n",
    "c. Tìm mô hình hồi quy tuyến tính đơn biến của **YPLL rate** theo **%Diabetes**. Vẽ mô hình\n",
    "\n",
    "d. Tìm mô hình hồi quy tuyến tính đơn biến của **YPLL rate** theo **Median Income**. Vẽ mô hình\n",
    "\n",
    "e. Tìm mô hình hồi quy tuyến tính đa biến của **YPLL rate** theo các biến **\"%Diabetes\", \"<18\", \"median income\"**\n",
    "\n",
    "f. So sánh 3 mô hình đã tìm được. Liệu bạn có thể tìm được mô hình tốt hơn không?\n",
    "\n",
    "g. Hãy so sánh mô hình hồi quy tuyến tính đơn biến của **YPLL rate** theo biến **Population** và biến **Population** sau khi đã biến đối logarith. Bạn có nhận xét gì?\n"
   ]
  },
  {
   "cell_type": "markdown",
   "metadata": {},
   "source": [
    "a."
   ]
  },
  {
   "cell_type": "code",
   "execution_count": 43,
   "metadata": {},
   "outputs": [
    {
     "data": {
      "text/html": [
       "<div>\n",
       "<style scoped>\n",
       "    .dataframe tbody tr th:only-of-type {\n",
       "        vertical-align: middle;\n",
       "    }\n",
       "\n",
       "    .dataframe tbody tr th {\n",
       "        vertical-align: top;\n",
       "    }\n",
       "\n",
       "    .dataframe thead th {\n",
       "        text-align: right;\n",
       "    }\n",
       "</style>\n",
       "<table border=\"1\" class=\"dataframe\">\n",
       "  <thead>\n",
       "    <tr style=\"text-align: right;\">\n",
       "      <th></th>\n",
       "      <th>FIPS</th>\n",
       "      <th>State</th>\n",
       "      <th>County</th>\n",
       "      <th>Population</th>\n",
       "      <th>&lt; 18</th>\n",
       "      <th>65 and over</th>\n",
       "      <th>African American</th>\n",
       "      <th>Female</th>\n",
       "      <th>Rural</th>\n",
       "      <th>%Diabetes</th>\n",
       "      <th>HIV rate</th>\n",
       "      <th>Physical Inactivity</th>\n",
       "      <th>mental health provider rate</th>\n",
       "      <th>median household income</th>\n",
       "      <th>% high housing costs</th>\n",
       "      <th>% Free lunch</th>\n",
       "      <th>% child Illiteracy</th>\n",
       "      <th>% Drive Alone</th>\n",
       "    </tr>\n",
       "  </thead>\n",
       "  <tbody>\n",
       "    <tr>\n",
       "      <th>0</th>\n",
       "      <td>1000</td>\n",
       "      <td>Alabama</td>\n",
       "      <td>NaN</td>\n",
       "      <td>4708708</td>\n",
       "      <td>23.9</td>\n",
       "      <td>13.8</td>\n",
       "      <td>26.1</td>\n",
       "      <td>51.6</td>\n",
       "      <td>44.6</td>\n",
       "      <td>12</td>\n",
       "      <td>NaN</td>\n",
       "      <td>31</td>\n",
       "      <td>20</td>\n",
       "      <td>42586.0</td>\n",
       "      <td>30</td>\n",
       "      <td>51.0</td>\n",
       "      <td>14.8</td>\n",
       "      <td>84</td>\n",
       "    </tr>\n",
       "    <tr>\n",
       "      <th>1</th>\n",
       "      <td>1001</td>\n",
       "      <td>Alabama</td>\n",
       "      <td>Autauga</td>\n",
       "      <td>50756</td>\n",
       "      <td>27.8</td>\n",
       "      <td>11.6</td>\n",
       "      <td>18.4</td>\n",
       "      <td>51.4</td>\n",
       "      <td>44.8</td>\n",
       "      <td>11</td>\n",
       "      <td>170.0</td>\n",
       "      <td>33</td>\n",
       "      <td>2</td>\n",
       "      <td>51622.0</td>\n",
       "      <td>25</td>\n",
       "      <td>29.0</td>\n",
       "      <td>12.7</td>\n",
       "      <td>86</td>\n",
       "    </tr>\n",
       "    <tr>\n",
       "      <th>2</th>\n",
       "      <td>1003</td>\n",
       "      <td>Alabama</td>\n",
       "      <td>Baldwin</td>\n",
       "      <td>179878</td>\n",
       "      <td>23.1</td>\n",
       "      <td>17.0</td>\n",
       "      <td>10.0</td>\n",
       "      <td>51.0</td>\n",
       "      <td>54.2</td>\n",
       "      <td>10</td>\n",
       "      <td>176.0</td>\n",
       "      <td>25</td>\n",
       "      <td>17</td>\n",
       "      <td>51957.0</td>\n",
       "      <td>29</td>\n",
       "      <td>29.0</td>\n",
       "      <td>10.6</td>\n",
       "      <td>83</td>\n",
       "    </tr>\n",
       "    <tr>\n",
       "      <th>3</th>\n",
       "      <td>1005</td>\n",
       "      <td>Alabama</td>\n",
       "      <td>Barbour</td>\n",
       "      <td>29737</td>\n",
       "      <td>22.3</td>\n",
       "      <td>13.8</td>\n",
       "      <td>46.6</td>\n",
       "      <td>46.8</td>\n",
       "      <td>71.5</td>\n",
       "      <td>14</td>\n",
       "      <td>331.0</td>\n",
       "      <td>35</td>\n",
       "      <td>7</td>\n",
       "      <td>30896.0</td>\n",
       "      <td>36</td>\n",
       "      <td>65.0</td>\n",
       "      <td>23.2</td>\n",
       "      <td>82</td>\n",
       "    </tr>\n",
       "    <tr>\n",
       "      <th>4</th>\n",
       "      <td>1007</td>\n",
       "      <td>Alabama</td>\n",
       "      <td>Bibb</td>\n",
       "      <td>21587</td>\n",
       "      <td>23.3</td>\n",
       "      <td>13.5</td>\n",
       "      <td>22.3</td>\n",
       "      <td>48.0</td>\n",
       "      <td>81.5</td>\n",
       "      <td>11</td>\n",
       "      <td>90.0</td>\n",
       "      <td>37</td>\n",
       "      <td>0</td>\n",
       "      <td>41076.0</td>\n",
       "      <td>18</td>\n",
       "      <td>48.0</td>\n",
       "      <td>17.5</td>\n",
       "      <td>83</td>\n",
       "    </tr>\n",
       "    <tr>\n",
       "      <th>5</th>\n",
       "      <td>1009</td>\n",
       "      <td>Alabama</td>\n",
       "      <td>Blount</td>\n",
       "      <td>58345</td>\n",
       "      <td>24.2</td>\n",
       "      <td>14.7</td>\n",
       "      <td>2.1</td>\n",
       "      <td>50.2</td>\n",
       "      <td>91.0</td>\n",
       "      <td>11</td>\n",
       "      <td>66.0</td>\n",
       "      <td>35</td>\n",
       "      <td>2</td>\n",
       "      <td>46086.0</td>\n",
       "      <td>21</td>\n",
       "      <td>37.0</td>\n",
       "      <td>13.9</td>\n",
       "      <td>80</td>\n",
       "    </tr>\n",
       "    <tr>\n",
       "      <th>6</th>\n",
       "      <td>1011</td>\n",
       "      <td>Alabama</td>\n",
       "      <td>Bullock</td>\n",
       "      <td>10985</td>\n",
       "      <td>24.6</td>\n",
       "      <td>10.8</td>\n",
       "      <td>68.2</td>\n",
       "      <td>44.5</td>\n",
       "      <td>64.7</td>\n",
       "      <td>15</td>\n",
       "      <td>352.0</td>\n",
       "      <td>32</td>\n",
       "      <td>0</td>\n",
       "      <td>26980.0</td>\n",
       "      <td>36</td>\n",
       "      <td>92.0</td>\n",
       "      <td>34.2</td>\n",
       "      <td>83</td>\n",
       "    </tr>\n",
       "    <tr>\n",
       "      <th>7</th>\n",
       "      <td>1013</td>\n",
       "      <td>Alabama</td>\n",
       "      <td>Butler</td>\n",
       "      <td>19964</td>\n",
       "      <td>24.8</td>\n",
       "      <td>16.2</td>\n",
       "      <td>41.9</td>\n",
       "      <td>52.9</td>\n",
       "      <td>74.8</td>\n",
       "      <td>15</td>\n",
       "      <td>209.0</td>\n",
       "      <td>35</td>\n",
       "      <td>5</td>\n",
       "      <td>31449.0</td>\n",
       "      <td>31</td>\n",
       "      <td>64.0</td>\n",
       "      <td>20.6</td>\n",
       "      <td>87</td>\n",
       "    </tr>\n",
       "    <tr>\n",
       "      <th>8</th>\n",
       "      <td>1015</td>\n",
       "      <td>Alabama</td>\n",
       "      <td>Calhoun</td>\n",
       "      <td>114081</td>\n",
       "      <td>23.4</td>\n",
       "      <td>15.0</td>\n",
       "      <td>20.0</td>\n",
       "      <td>52.1</td>\n",
       "      <td>31.0</td>\n",
       "      <td>15</td>\n",
       "      <td>175.0</td>\n",
       "      <td>32</td>\n",
       "      <td>11</td>\n",
       "      <td>39997.0</td>\n",
       "      <td>28</td>\n",
       "      <td>45.0</td>\n",
       "      <td>14.6</td>\n",
       "      <td>86</td>\n",
       "    </tr>\n",
       "    <tr>\n",
       "      <th>9</th>\n",
       "      <td>1017</td>\n",
       "      <td>Alabama</td>\n",
       "      <td>Chambers</td>\n",
       "      <td>34320</td>\n",
       "      <td>22.5</td>\n",
       "      <td>16.8</td>\n",
       "      <td>37.8</td>\n",
       "      <td>52.6</td>\n",
       "      <td>49.8</td>\n",
       "      <td>16</td>\n",
       "      <td>275.0</td>\n",
       "      <td>36</td>\n",
       "      <td>3</td>\n",
       "      <td>35614.0</td>\n",
       "      <td>29</td>\n",
       "      <td>60.0</td>\n",
       "      <td>20.2</td>\n",
       "      <td>85</td>\n",
       "    </tr>\n",
       "  </tbody>\n",
       "</table>\n",
       "</div>"
      ],
      "text/plain": [
       "   FIPS    State    County  Population  < 18  65 and over  African American  \\\n",
       "0  1000  Alabama       NaN     4708708  23.9         13.8              26.1   \n",
       "1  1001  Alabama   Autauga       50756  27.8         11.6              18.4   \n",
       "2  1003  Alabama   Baldwin      179878  23.1         17.0              10.0   \n",
       "3  1005  Alabama   Barbour       29737  22.3         13.8              46.6   \n",
       "4  1007  Alabama      Bibb       21587  23.3         13.5              22.3   \n",
       "5  1009  Alabama    Blount       58345  24.2         14.7               2.1   \n",
       "6  1011  Alabama   Bullock       10985  24.6         10.8              68.2   \n",
       "7  1013  Alabama    Butler       19964  24.8         16.2              41.9   \n",
       "8  1015  Alabama   Calhoun      114081  23.4         15.0              20.0   \n",
       "9  1017  Alabama  Chambers       34320  22.5         16.8              37.8   \n",
       "\n",
       "   Female  Rural  %Diabetes  HIV rate  Physical Inactivity  \\\n",
       "0    51.6   44.6         12       NaN                   31   \n",
       "1    51.4   44.8         11     170.0                   33   \n",
       "2    51.0   54.2         10     176.0                   25   \n",
       "3    46.8   71.5         14     331.0                   35   \n",
       "4    48.0   81.5         11      90.0                   37   \n",
       "5    50.2   91.0         11      66.0                   35   \n",
       "6    44.5   64.7         15     352.0                   32   \n",
       "7    52.9   74.8         15     209.0                   35   \n",
       "8    52.1   31.0         15     175.0                   32   \n",
       "9    52.6   49.8         16     275.0                   36   \n",
       "\n",
       "   mental health provider rate  median household income  % high housing costs  \\\n",
       "0                           20                  42586.0                    30   \n",
       "1                            2                  51622.0                    25   \n",
       "2                           17                  51957.0                    29   \n",
       "3                            7                  30896.0                    36   \n",
       "4                            0                  41076.0                    18   \n",
       "5                            2                  46086.0                    21   \n",
       "6                            0                  26980.0                    36   \n",
       "7                            5                  31449.0                    31   \n",
       "8                           11                  39997.0                    28   \n",
       "9                            3                  35614.0                    29   \n",
       "\n",
       "   % Free lunch  % child Illiteracy  % Drive Alone  \n",
       "0          51.0                14.8             84  \n",
       "1          29.0                12.7             86  \n",
       "2          29.0                10.6             83  \n",
       "3          65.0                23.2             82  \n",
       "4          48.0                17.5             83  \n",
       "5          37.0                13.9             80  \n",
       "6          92.0                34.2             83  \n",
       "7          64.0                20.6             87  \n",
       "8          45.0                14.6             86  \n",
       "9          60.0                20.2             85  "
      ]
     },
     "execution_count": 43,
     "metadata": {},
     "output_type": "execute_result"
    }
   ],
   "source": [
    "df_2 = pd.read_csv('additional-measures.csv')\n",
    "df_2.head(10)"
   ]
  },
  {
   "cell_type": "code",
   "execution_count": 30,
   "metadata": {},
   "outputs": [
    {
     "data": {
      "text/plain": [
       "(3192, 18)"
      ]
     },
     "execution_count": 30,
     "metadata": {},
     "output_type": "execute_result"
    }
   ],
   "source": [
    "df_2.shape"
   ]
  },
  {
   "cell_type": "code",
   "execution_count": 33,
   "metadata": {},
   "outputs": [],
   "source": [
    "data_YPLL = df['YPLL Rate']\n",
    "# data_YPLL"
   ]
  },
  {
   "cell_type": "code",
   "execution_count": 35,
   "metadata": {},
   "outputs": [],
   "source": [
    "data_Diabetes = df_2['%Diabetes']\n",
    "# data_Diabetes"
   ]
  },
  {
   "cell_type": "code",
   "execution_count": 46,
   "metadata": {},
   "outputs": [],
   "source": [
    "# data_18 = df[\"< 18\"]"
   ]
  },
  {
   "cell_type": "code",
   "execution_count": 45,
   "metadata": {},
   "outputs": [],
   "source": [
    "data_m_income = df_2['median household income']"
   ]
  },
  {
   "cell_type": "code",
   "execution_count": 48,
   "metadata": {},
   "outputs": [],
   "source": [
    "import matplotlib.pyplot as plt"
   ]
  },
  {
   "cell_type": "code",
   "execution_count": 50,
   "metadata": {},
   "outputs": [
    {
     "data": {
      "image/png": "[encoded data removed]",
      "text/plain": [
       "<Figure size 640x480 with 1 Axes>"
      ]
     },
     "metadata": {},
     "output_type": "display_data"
    }
   ],
   "source": [
    "plt.scatter(data_YPLL, data_Diabetes, label='mối tương quan tuyến tính')\n",
    "plt.xlabel('YPLL Rate')\n",
    "plt.ylabel('Diabetes')\n",
    "plt.title('Scatter Plot giữa YPLL Rate và %Diabetes')\n",
    "plt.legend()\n",
    "plt.show()"
   ]
  },
  {
   "cell_type": "code",
   "execution_count": 56,
   "metadata": {},
   "outputs": [
    {
     "data": {
      "image/png": "[encoded data removed]",
      "text/plain": [
       "<Figure size 640x480 with 1 Axes>"
      ]
     },
     "metadata": {},
     "output_type": "display_data"
    }
   ],
   "source": [
    "plt.scatter(data_YPLL, data_m_income, label='mối tương quan tuyến tính')\n",
    "plt.xlabel('YPLL Rate')\n",
    "plt.ylabel('median household income')\n",
    "plt.title('Scatter Plot giữa YPLL Rate và median household income')\n",
    "plt.legend()\n",
    "plt.show()"
   ]
  },
  {
   "cell_type": "markdown",
   "metadata": {},
   "source": [
    "b. Nhận xét"
   ]
  },
  {
   "cell_type": "markdown",
   "metadata": {},
   "source": [
    "Mối tương quan giữa YPLL Rate với Diabetes:\n",
    "\n",
    "Biểu đồ này là một biểu đồ phân tán thể hiện mối tương quan giữa tỷ lệ YPLL và tỷ lệ mắc bệnh tiểu đường. Tỷ lệ YPLL là số năm sống tiềm năng bị mất do tử vong sớm, trong khi tỷ lệ mắc bệnh tiểu đường là số người mắc bệnh tiểu đường trên tổng dân số.\n",
    "\n",
    "Biểu đồ cho thấy mối tương quan tuyến tính dương giữa hai biến. Điều này có nghĩa là tỷ lệ YPLL cao hơn có liên quan đến tỷ lệ mắc bệnh tiểu đường cao hơn. Nói cách khác, những người mắc bệnh tiểu đường có nguy cơ tử vong sớm cao hơn những người không mắc bệnh tiểu đường.\n",
    "\n",
    "Biểu đồ này có thể được sử dụng để giúp các nhà hoạch định chính sách và nhà cung cấp dịch vụ chăm sóc sức khỏe hiểu rõ hơn về mối quan hệ giữa bệnh tiểu đường và tử vong sớm. Thông tin này có thể được sử dụng để phát triển các chương trình và chính sách nhằm giảm tỷ lệ mắc bệnh tiểu đường và cải thiện sức khỏe của những người mắc bệnh tiểu đường.\n",
    "\n",
    "Nhìn chung, biểu đồ này cung cấp bằng chứng cho thấy có mối liên quan giữa bệnh tiểu đường và tử vong sớm. Mối liên hệ này có thể là do một số yếu tố, bao gồm các biến chứng của bệnh tiểu đường và suy yếu hệ miễn dịch. Thông tin này có thể được sử dụng để giúp các nhà hoạch định chính sách và nhà cung cấp dịch vụ chăm sóc sức khỏe hiểu rõ hơn về mối quan hệ này và phát triển các chương trình và chính sách nhằm giảm tỷ lệ mắc bệnh tiểu đường và cải thiện sức khỏe của những người mắc bệnh tiểu đường."
   ]
  },
  {
   "cell_type": "markdown",
   "metadata": {},
   "source": [
    "Mối tương quan giữa YPLL với median household income:\n",
    "\n",
    "Biểu đồ này thể hiện mối quan hệ giữa YPLL Rate và thu nhập hộ gia đình trung bình ở Việt Nam. YPLL Rate là tỷ lệ tuổi thọ mất đi do bệnh tật, thương tích hoặc tử vong sớm. Thu nhập hộ gia đình trung bình là tổng thu nhập của tất cả các thành viên trong một hộ gia đình, chia cho số thành viên trong hộ gia đình.\n",
    "\n",
    "Biểu đồ cho thấy mối quan hệ tuyến tính giữa YPLL Rate và thu nhập hộ gia đình trung bình. Điều này có nghĩa là khi thu nhập hộ gia đình trung bình tăng lên, YPLL Rate giảm xuống.\n",
    "\n",
    "Có thể có một số lý do giải thích cho mối quan hệ này. Một lý do là những người có thu nhập cao hơn có thể có quyền truy cập vào các dịch vụ chăm sóc sức khỏe tốt hơn. Điều này có thể giúp họ sống lâu hơn và khỏe mạnh hơn. Lý do khác là những người có thu nhập cao hơn có thể có cuộc sống ít căng thẳng hơn. Điều này có thể giúp họ ít bị bệnh tật và thương tích hơn.\n",
    "\n",
    "Biểu đồ này cung cấp bằng chứng cho thấy thu nhập hộ gia đình trung bình có thể có tác động tích cực đến sức khỏe. Điều này có thể có ý nghĩa quan trọng cho chính sách công. Các chính sách có thể giúp tăng thu nhập hộ gia đình trung bình, chẳng hạn như hỗ trợ giáo dục và đào tạo, có thể giúp cải thiện sức khỏe của dân số."
   ]
  },
  {
   "cell_type": "markdown",
   "metadata": {},
   "source": [
    "c."
   ]
  },
  {
   "cell_type": "code",
   "execution_count": 72,
   "metadata": {},
   "outputs": [
    {
     "ename": "TypeError",
     "evalue": "expected x and y to have same length",
     "output_type": "error",
     "traceback": [
      "\u001b[1;31m---------------------------------------------------------------------------\u001b[0m",
      "\u001b[1;31mTypeError\u001b[0m                                 Traceback (most recent call last)",
      "\u001b[1;32md:\\PYTHON_1\\thiPTDL_main\\23_NguyenKhacLuat_PTDL_CK.ipynb Cell 29\u001b[0m line \u001b[0;36m8\n\u001b[0;32m      <a href='vscode-notebook-cell:/d%3A/PYTHON_1/thiPTDL_main/23_NguyenKhacLuat_PTDL_CK.ipynb#X50sZmlsZQ%3D%3D?line=5'>6</a>\u001b[0m x_values \u001b[39m=\u001b[39m np\u001b[39m.\u001b[39marray(data_YPLL)\n\u001b[0;32m      <a href='vscode-notebook-cell:/d%3A/PYTHON_1/thiPTDL_main/23_NguyenKhacLuat_PTDL_CK.ipynb#X50sZmlsZQ%3D%3D?line=6'>7</a>\u001b[0m y_values \u001b[39m=\u001b[39m np\u001b[39m.\u001b[39marray(data_Diabetes)\n\u001b[1;32m----> <a href='vscode-notebook-cell:/d%3A/PYTHON_1/thiPTDL_main/23_NguyenKhacLuat_PTDL_CK.ipynb#X50sZmlsZQ%3D%3D?line=7'>8</a>\u001b[0m slope, intercept \u001b[39m=\u001b[39m np\u001b[39m.\u001b[39;49mpolyfit(x_values, y_values, \u001b[39m1\u001b[39;49m)\n\u001b[0;32m      <a href='vscode-notebook-cell:/d%3A/PYTHON_1/thiPTDL_main/23_NguyenKhacLuat_PTDL_CK.ipynb#X50sZmlsZQ%3D%3D?line=8'>9</a>\u001b[0m regression_line \u001b[39m=\u001b[39m slope \u001b[39m*\u001b[39m x_values \u001b[39m+\u001b[39m intercept\n\u001b[0;32m     <a href='vscode-notebook-cell:/d%3A/PYTHON_1/thiPTDL_main/23_NguyenKhacLuat_PTDL_CK.ipynb#X50sZmlsZQ%3D%3D?line=10'>11</a>\u001b[0m \u001b[39m# Vẽ scatter plot\u001b[39;00m\n",
      "File \u001b[1;32mc:\\Users\\marvis\\AppData\\Local\\Programs\\Python\\Python311\\Lib\\site-packages\\numpy\\lib\\polynomial.py:643\u001b[0m, in \u001b[0;36mpolyfit\u001b[1;34m(x, y, deg, rcond, full, w, cov)\u001b[0m\n\u001b[0;32m    641\u001b[0m     \u001b[39mraise\u001b[39;00m \u001b[39mTypeError\u001b[39;00m(\u001b[39m\"\u001b[39m\u001b[39mexpected 1D or 2D array for y\u001b[39m\u001b[39m\"\u001b[39m)\n\u001b[0;32m    642\u001b[0m \u001b[39mif\u001b[39;00m x\u001b[39m.\u001b[39mshape[\u001b[39m0\u001b[39m] \u001b[39m!=\u001b[39m y\u001b[39m.\u001b[39mshape[\u001b[39m0\u001b[39m]:\n\u001b[1;32m--> 643\u001b[0m     \u001b[39mraise\u001b[39;00m \u001b[39mTypeError\u001b[39;00m(\u001b[39m\"\u001b[39m\u001b[39mexpected x and y to have same length\u001b[39m\u001b[39m\"\u001b[39m)\n\u001b[0;32m    645\u001b[0m \u001b[39m# set rcond\u001b[39;00m\n\u001b[0;32m    646\u001b[0m \u001b[39mif\u001b[39;00m rcond \u001b[39mis\u001b[39;00m \u001b[39mNone\u001b[39;00m:\n",
      "\u001b[1;31mTypeError\u001b[0m: expected x and y to have same length"
     ]
    }
   ],
   "source": [
    "import numpy as np\n",
    "import matplotlib.pyplot as plt\n",
    "\n",
    "# Dữ liệu mẫu\n",
    "\n",
    "x_values = np.array(data_YPLL)\n",
    "y_values = np.array(data_Diabetes)\n",
    "slope, intercept = np.polyfit(x_values, y_values, 1)\n",
    "regression_line = slope * x_values + intercept\n",
    "\n",
    "# Vẽ scatter plot\n",
    "plt.scatter(x_values, y_values, label='Dữ liệu thực tế')\n",
    "plt.plot(x_values, regression_line, label='Đường hồi quy', color='red')\n",
    "plt.xlabel('Trục X')\n",
    "plt.ylabel('Trục Y')\n",
    "plt.title('Mô hình hồi quy tuyến tính đơn biến của YPLL Rate theo %Diabetes')\n",
    "plt.legend()\n",
    "plt.show()"
   ]
  },
  {
   "cell_type": "markdown",
   "metadata": {},
   "source": [
    "d. Tìm mô hình hồi quy tuyến tính đơn biến của **YPLL rate** theo **Median Income**. Vẽ mô hình"
   ]
  },
  {
   "cell_type": "code",
   "execution_count": 69,
   "metadata": {},
   "outputs": [
    {
     "ename": "TypeError",
     "evalue": "expected x and y to have same length",
     "output_type": "error",
     "traceback": [
      "\u001b[1;31m---------------------------------------------------------------------------\u001b[0m",
      "\u001b[1;31mTypeError\u001b[0m                                 Traceback (most recent call last)",
      "\u001b[1;32md:\\PYTHON_1\\thiPTDL_main\\23_NguyenKhacLuat_PTDL_CK.ipynb Cell 31\u001b[0m line \u001b[0;36m9\n\u001b[0;32m      <a href='vscode-notebook-cell:/d%3A/PYTHON_1/thiPTDL_main/23_NguyenKhacLuat_PTDL_CK.ipynb#X54sZmlsZQ%3D%3D?line=6'>7</a>\u001b[0m x_values \u001b[39m=\u001b[39m np\u001b[39m.\u001b[39marray(data_YPLL)\n\u001b[0;32m      <a href='vscode-notebook-cell:/d%3A/PYTHON_1/thiPTDL_main/23_NguyenKhacLuat_PTDL_CK.ipynb#X54sZmlsZQ%3D%3D?line=7'>8</a>\u001b[0m y_values \u001b[39m=\u001b[39m np\u001b[39m.\u001b[39marray(data_m_income)\n\u001b[1;32m----> <a href='vscode-notebook-cell:/d%3A/PYTHON_1/thiPTDL_main/23_NguyenKhacLuat_PTDL_CK.ipynb#X54sZmlsZQ%3D%3D?line=8'>9</a>\u001b[0m slope, intercept \u001b[39m=\u001b[39m np\u001b[39m.\u001b[39;49mpolyfit(x_values, y_values, \u001b[39m1\u001b[39;49m)\n\u001b[0;32m     <a href='vscode-notebook-cell:/d%3A/PYTHON_1/thiPTDL_main/23_NguyenKhacLuat_PTDL_CK.ipynb#X54sZmlsZQ%3D%3D?line=9'>10</a>\u001b[0m regression_line \u001b[39m=\u001b[39m slope \u001b[39m*\u001b[39m x_values \u001b[39m+\u001b[39m intercept\n\u001b[0;32m     <a href='vscode-notebook-cell:/d%3A/PYTHON_1/thiPTDL_main/23_NguyenKhacLuat_PTDL_CK.ipynb#X54sZmlsZQ%3D%3D?line=10'>11</a>\u001b[0m \u001b[39m# Vẽ scatter plot\u001b[39;00m\n",
      "File \u001b[1;32mc:\\Users\\marvis\\AppData\\Local\\Programs\\Python\\Python311\\Lib\\site-packages\\numpy\\lib\\polynomial.py:643\u001b[0m, in \u001b[0;36mpolyfit\u001b[1;34m(x, y, deg, rcond, full, w, cov)\u001b[0m\n\u001b[0;32m    641\u001b[0m     \u001b[39mraise\u001b[39;00m \u001b[39mTypeError\u001b[39;00m(\u001b[39m\"\u001b[39m\u001b[39mexpected 1D or 2D array for y\u001b[39m\u001b[39m\"\u001b[39m)\n\u001b[0;32m    642\u001b[0m \u001b[39mif\u001b[39;00m x\u001b[39m.\u001b[39mshape[\u001b[39m0\u001b[39m] \u001b[39m!=\u001b[39m y\u001b[39m.\u001b[39mshape[\u001b[39m0\u001b[39m]:\n\u001b[1;32m--> 643\u001b[0m     \u001b[39mraise\u001b[39;00m \u001b[39mTypeError\u001b[39;00m(\u001b[39m\"\u001b[39m\u001b[39mexpected x and y to have same length\u001b[39m\u001b[39m\"\u001b[39m)\n\u001b[0;32m    645\u001b[0m \u001b[39m# set rcond\u001b[39;00m\n\u001b[0;32m    646\u001b[0m \u001b[39mif\u001b[39;00m rcond \u001b[39mis\u001b[39;00m \u001b[39mNone\u001b[39;00m:\n",
      "\u001b[1;31mTypeError\u001b[0m: expected x and y to have same length"
     ]
    }
   ],
   "source": [
    "import numpy as np\n",
    "import matplotlib.pyplot as plt\n",
    "\n",
    "# Dữ liệu mẫu\n",
    "# data_YPLL.dropna(inplace=True)\n",
    "# data_m_income.dropna(inplace=True)\n",
    "x_values = np.array(data_YPLL)\n",
    "y_values = np.array(data_m_income)\n",
    "slope, intercept = np.polyfit(x_values, y_values, 1)\n",
    "regression_line = slope * x_values + intercept\n",
    "# Vẽ scatter plot\n",
    "plt.scatter(x_values, y_values, label='Dữ liệu thực tế')\n",
    "plt.plot(x_values, regression_line, label='Đường hồi quy', color='red')\n",
    "plt.xlabel('Trục X')\n",
    "plt.ylabel('Trục Y')\n",
    "plt.title('Mô hình hồi quy tuyến tính đơn biến của YPLL Rate theo median household income')\n",
    "plt.legend()\n",
    "plt.show()"
   ]
  },
  {
   "cell_type": "markdown",
   "metadata": {},
   "source": [
    "e. Tìm mô hình hồi quy tuyến tính đa biến của **YPLL rate** theo các biến **\"%Diabetes\", \"<18\", \"median income\"**\n",
    "\n",
    "f. So sánh 3 mô hình đã tìm được. Liệu bạn có thể tìm được mô hình tốt hơn không?\n",
    "\n",
    "g. Hãy so sánh mô hình hồi quy tuyến tính đơn biến của **YPLL rate** theo biến **Population** và biến **Population** sau khi đã biến đối logarith. Bạn có nhận xét gì?"
   ]
  },
  {
   "cell_type": "markdown",
   "metadata": {},
   "source": [
    "### CÂU 3: TRẮC NGHIỆM (1 điểm)\n",
    "\n",
    "Cho các kỹ thuật phân tích sau:\n",
    "\n",
    "M = 1, Cohort and Churn Analysis\n",
    "\n",
    "M = 2, Funnel\n",
    "\n",
    "M = 3, RFM model\n",
    "\n",
    "M = 4, K-Means\n",
    "\n",
    "\n",
    "**Biết M = (STT % 4) + 1**\n",
    " \n",
    "- Cho biết M của bạn là bao nhiêu. \n",
    "- Tương ứng với giá trị của M, bạn hãy trình bày ngắn gọn nội dung và ứng dụng của kỹ thuật phân tích trên.\n"
   ]
  },
  {
   "cell_type": "markdown",
   "metadata": {},
   "source": [
    "STT = 23\n",
    "\n",
    "`M = (23/4) + 1 = 4`"
   ]
  },
  {
   "cell_type": "markdown",
   "metadata": {},
   "source": [
    "Nội dung:\n",
    "\n",
    "`Trong thuật toán K-means clustering, chúng ta không biết nhãn (label) của từng điểm dữ liệu. Mục đích là làm thể nào để phân dữ liệu thành các cụm (cluster) khác nhau sao cho dữ liệu trong cùng một cụm có tính chất giống nhau.`\n",
    "\n",
    "Ứng dụng:\n",
    "\n",
    "`Một công ty muốn tạo ra những chính sách ưu đãi cho những nhóm khách hàng khác nhau dựa trên sự tương tác giữa mỗi khách hàng với công ty đó (số năm là khách hàng; số tiền khách hàng đã chi trả cho công ty; độ tuổi; giới tính; thành phố; nghề nghiệp; …). Giả sử công ty đó có rất nhiều dữ liệu của rất nhiều khách hàng nhưng chưa có cách nào chia toàn bộ khách hàng đó thành một số nhóm/cụm khác nhau. Nếu một người biết Machine Learning được đặt câu hỏi này, phương pháp đầu tiên anh (chị) ta nghĩ đến sẽ là K-means Clustering. Vì nó là một trong những thuật toán đầu tiên mà anh ấy tìm được trong các cuốn sách, khóa học về Machine Learning. Và tôi cũng chắc rằng anh ấy đã đọc blog Machine Learning cơ bản. Sau khi đã phân ra được từng nhóm, nhân viên công ty đó có thể lựa chọn ra một vài khách hàng trong mỗi nhóm để quyết định xem mỗi nhóm tương ứng với nhóm khách hàng nào. Phần việc cuối cùng này cần sự can thiệp của con người, nhưng lượng công việc đã được rút gọn đi rất nhiều.`"
   ]
  },
  {
   "cell_type": "code",
   "execution_count": null,
   "metadata": {},
   "outputs": [],
   "source": []
  },
  {
   "cell_type": "markdown",
   "metadata": {},
   "source": [
    "---"
   ]
  },
  {
   "cell_type": "markdown",
   "metadata": {},
   "source": [
    "## TỰ ĐÁNH GIÁ\n",
    "\n",
    "Với mỗi câu nhỏ là 1 điểm, tự chấm bài của mình bạn nghĩ mình sẽ được: (ghi vào bên dưới)\n",
    "\n",
    "### 7 ĐIỂM\n",
    "\n",
    "---"
   ]
  }
 ],
 "metadata": {
  "kernelspec": {
   "display_name": "Python 3",
   "language": "python",
   "name": "python3"
  },
  "language_info": {
   "codemirror_mode": {
    "name": "ipython",
    "version": 3
   },
   "file_extension": ".py",
   "mimetype": "text/x-python",
   "name": "python",
   "nbconvert_exporter": "python",
   "pygments_lexer": "ipython3",
   "version": "3.11.4"
  }
 },
 "nbformat": 4,
 "nbformat_minor": 2
}
